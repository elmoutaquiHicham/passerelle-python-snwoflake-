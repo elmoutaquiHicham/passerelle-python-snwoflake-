{
  "nbformat": 4,
  "nbformat_minor": 0,
  "metadata": {
    "colab": {
      "provenance": []
    },
    "kernelspec": {
      "name": "python3",
      "display_name": "Python 3"
    },
    "language_info": {
      "name": "python"
    }
  },
  "cells": [
    {
      "cell_type": "markdown",
      "source": [
        "## Importation des packages nécessairtes"
      ],
      "metadata": {
        "id": "8btC-x0uIQQ3"
      }
    },
    {
      "cell_type": "code",
      "source": [
        "import pandas as pd\n",
        "import numpy as np\n",
        "import os\n",
        "import snowflake.connector\n",
        "from snowflake.connector.pandas_tools import write_pandas"
      ],
      "metadata": {
        "id": "j6rFIPLc-Z1_"
      },
      "execution_count": 9,
      "outputs": []
    },
    {
      "cell_type": "code",
      "source": [
        "df = pd.read_excel(\"/content/odoo-op2a-final.xlsx\")"
      ],
      "metadata": {
        "id": "Wk1hLn9c-VUk"
      },
      "execution_count": 7,
      "outputs": []
    },
    {
      "cell_type": "markdown",
      "source": [
        "## Remplir les colonnes dont nous avons pas d'information par np.nan"
      ],
      "metadata": {
        "id": "JFeIaBo4HikQ"
      }
    },
    {
      "cell_type": "code",
      "source": [
        "df['customer_name'] = np.nan"
      ],
      "metadata": {
        "id": "aZlINHEC-nGW"
      },
      "execution_count": 11,
      "outputs": []
    },
    {
      "cell_type": "code",
      "source": [
        "df['site_type'] = np.nan"
      ],
      "metadata": {
        "id": "oV8RXVjxDOD7"
      },
      "execution_count": 13,
      "outputs": []
    },
    {
      "cell_type": "code",
      "source": [
        "df['shape_type'] = np.nan"
      ],
      "metadata": {
        "id": "e3izJjiiDXEt"
      },
      "execution_count": 14,
      "outputs": []
    },
    {
      "cell_type": "code",
      "source": [
        "df['site_owner'] = np.nan"
      ],
      "metadata": {
        "id": "QKOIyjORDeIu"
      },
      "execution_count": 15,
      "outputs": []
    },
    {
      "cell_type": "markdown",
      "source": [
        "## Renommer les colonnes conformémemnt aux intitulées présentes sur l'application omniscient"
      ],
      "metadata": {
        "id": "1-gcupKBHwa-"
      }
    },
    {
      "cell_type": "code",
      "source": [
        "A = ['customer_name', 'CI_odoo', 'Nom affiché', 'site_type', 'shape_type', 'site_owner', 'Adresse complète', 'lon_api', 'lat_api']"
      ],
      "metadata": {
        "id": "wCkMRLJyC5N3"
      },
      "execution_count": 16,
      "outputs": []
    },
    {
      "cell_type": "code",
      "source": [
        "df = df[A]"
      ],
      "metadata": {
        "id": "YzRpLGQ9C3rY"
      },
      "execution_count": 17,
      "outputs": []
    },
    {
      "cell_type": "code",
      "source": [
        "df['radius'] = np.nan"
      ],
      "metadata": {
        "colab": {
          "base_uri": "https://localhost:8080/"
        },
        "id": "YDFF-V0uEXlY",
        "outputId": "c95a21e7-441b-41f7-991f-e8cca3c8a248"
      },
      "execution_count": 19,
      "outputs": [
        {
          "output_type": "stream",
          "name": "stderr",
          "text": [
            "<ipython-input-19-79f21f06433f>:1: SettingWithCopyWarning: \n",
            "A value is trying to be set on a copy of a slice from a DataFrame.\n",
            "Try using .loc[row_indexer,col_indexer] = value instead\n",
            "\n",
            "See the caveats in the documentation: https://pandas.pydata.org/pandas-docs/stable/user_guide/indexing.html#returning-a-view-versus-a-copy\n",
            "  df['radius'] = np.nan\n"
          ]
        }
      ]
    },
    {
      "cell_type": "code",
      "source": [
        "df.columns = ['CUSTOMER_NAME', 'SITE_ID', 'SITE_NAME', 'SITE_TYPE', 'SHAPE_TYPE', 'SITE_OWNER', 'ADDRESS', 'SHAPE_LON', 'SHAPE_LAT', 'RADIUS']"
      ],
      "metadata": {
        "id": "WvhhFYDQD7-e"
      },
      "execution_count": 28,
      "outputs": []
    },
    {
      "cell_type": "code",
      "source": [
        "df"
      ],
      "metadata": {
        "colab": {
          "base_uri": "https://localhost:8080/",
          "height": 597
        },
        "collapsed": true,
        "id": "uSAXI5CKCrdt",
        "outputId": "5c072955-61ef-42d6-9aab-b290ca6b6bb5"
      },
      "execution_count": 29,
      "outputs": [
        {
          "output_type": "execute_result",
          "data": {
            "text/plain": [
              "      CUSTOMER_NAME      SITE_ID  \\\n",
              "0               NaN  EXTX.931770   \n",
              "1               NaN  570X.VS2104   \n",
              "2               NaN  570X.VL1902   \n",
              "3               NaN  570X.VL1903   \n",
              "4               NaN  570X.TE2101   \n",
              "...             ...          ...   \n",
              "1174            NaN  570X.ES1903   \n",
              "1175            NaN  I77X.B01110   \n",
              "1176            NaN  G06X.196100   \n",
              "1177            NaN  570X.SE2006   \n",
              "1178            NaN  Q80X.800300   \n",
              "\n",
              "                                              SITE_NAME  SITE_TYPE  \\\n",
              "0     (931770) EXTX - 936410 SPIE  SNCF GARE SEVRAN ...        NaN   \n",
              "1     (VS2104) 570X - A10 - VIADUC DE L'INDRE - MODI...        NaN   \n",
              "2         (VL1902) 570X - A10 TOURS - COMPTE DE PASSAGE        NaN   \n",
              "3            (VL1903) 570X - A11 - CONNERRE - ECHANGEUR        NaN   \n",
              "4     (TE2101) 570X - A11 NANTES PORTE GESVRES - BIS...        NaN   \n",
              "...                                                 ...        ...   \n",
              "1174                 (ES1903) 570X - WITTELSHEIM - MDPA        NaN   \n",
              "1175  (B01110) I77X - WORNINGTON GREEN, LDN KENSINGT...        NaN   \n",
              "1176                      (196100) G06X - XXL MARSEILLE        NaN   \n",
              "1177          (SE2006) 570X - YSSINGEAUX - TOARCH LOT 1        NaN   \n",
              "1178        (800300) Q80X - ZEPHYR_PROJET EVREUX BA 105        NaN   \n",
              "\n",
              "      SHAPE_TYPE  SITE_OWNER  \\\n",
              "0            NaN         NaN   \n",
              "1            NaN         NaN   \n",
              "2            NaN         NaN   \n",
              "3            NaN         NaN   \n",
              "4            NaN         NaN   \n",
              "...          ...         ...   \n",
              "1174         NaN         NaN   \n",
              "1175         NaN         NaN   \n",
              "1176         NaN         NaN   \n",
              "1177         NaN         NaN   \n",
              "1178         NaN         NaN   \n",
              "\n",
              "                                                ADDRESS  SHAPE_LON  SHAPE_LAT  \\\n",
              "0     936410 SPIE  SNCF GARE SEVRAN LIVRY\\nRUE ESTIE...   2.534834  48.936061   \n",
              "1     A10 - VIADUC DE L'INDRE - MODIFICATION\\n135 ru...   0.657752  47.293079   \n",
              "2     A10 TOURS - COMPTE DE PASSAGE\\nCHEMIN LE PETIT...   0.672344  47.261719   \n",
              "3     A11 - CONNERRE - ECHANGEUR\\nLIEU DIT LES MORTI...   0.510527  48.090065   \n",
              "4     A11 NANTES PORTE GESVRES - BIS BYTP RF\\nrue Ad...  -1.563787  47.266703   \n",
              "...                                                 ...        ...        ...   \n",
              "1174  WITTELSHEIM - MDPA\\nAVENUE JOSEPH ELSE\\n\\n6831...   7.231214  47.778487   \n",
              "1175  WORNINGTON GREEN, LDN KENSINGTON&CHELSEA\\nWorn...  -0.211870  51.523696   \n",
              "1176  XXL MARSEILLE\\n77 RUE DE LYON\\n\\n13015 MARSEIL...   5.365904  43.326446   \n",
              "1177  YSSINGEAUX - TOARCH LOT 1\\nRN88\\n\\n43200 Yssin...   4.123734  45.142667   \n",
              "1178  ZEPHYR_PROJET EVREUX BA 105\\n5 chemin du Coudr...   1.194756  49.016557   \n",
              "\n",
              "      RADIUS  \n",
              "0        NaN  \n",
              "1        NaN  \n",
              "2        NaN  \n",
              "3        NaN  \n",
              "4        NaN  \n",
              "...      ...  \n",
              "1174     NaN  \n",
              "1175     NaN  \n",
              "1176     NaN  \n",
              "1177     NaN  \n",
              "1178     NaN  \n",
              "\n",
              "[1179 rows x 10 columns]"
            ],
            "text/html": [
              "\n",
              "  <div id=\"df-d2a143fe-b2f6-480b-96db-9984332c3c45\" class=\"colab-df-container\">\n",
              "    <div>\n",
              "<style scoped>\n",
              "    .dataframe tbody tr th:only-of-type {\n",
              "        vertical-align: middle;\n",
              "    }\n",
              "\n",
              "    .dataframe tbody tr th {\n",
              "        vertical-align: top;\n",
              "    }\n",
              "\n",
              "    .dataframe thead th {\n",
              "        text-align: right;\n",
              "    }\n",
              "</style>\n",
              "<table border=\"1\" class=\"dataframe\">\n",
              "  <thead>\n",
              "    <tr style=\"text-align: right;\">\n",
              "      <th></th>\n",
              "      <th>CUSTOMER_NAME</th>\n",
              "      <th>SITE_ID</th>\n",
              "      <th>SITE_NAME</th>\n",
              "      <th>SITE_TYPE</th>\n",
              "      <th>SHAPE_TYPE</th>\n",
              "      <th>SITE_OWNER</th>\n",
              "      <th>ADDRESS</th>\n",
              "      <th>SHAPE_LON</th>\n",
              "      <th>SHAPE_LAT</th>\n",
              "      <th>RADIUS</th>\n",
              "    </tr>\n",
              "  </thead>\n",
              "  <tbody>\n",
              "    <tr>\n",
              "      <th>0</th>\n",
              "      <td>NaN</td>\n",
              "      <td>EXTX.931770</td>\n",
              "      <td>(931770) EXTX - 936410 SPIE  SNCF GARE SEVRAN ...</td>\n",
              "      <td>NaN</td>\n",
              "      <td>NaN</td>\n",
              "      <td>NaN</td>\n",
              "      <td>936410 SPIE  SNCF GARE SEVRAN LIVRY\\nRUE ESTIE...</td>\n",
              "      <td>2.534834</td>\n",
              "      <td>48.936061</td>\n",
              "      <td>NaN</td>\n",
              "    </tr>\n",
              "    <tr>\n",
              "      <th>1</th>\n",
              "      <td>NaN</td>\n",
              "      <td>570X.VS2104</td>\n",
              "      <td>(VS2104) 570X - A10 - VIADUC DE L'INDRE - MODI...</td>\n",
              "      <td>NaN</td>\n",
              "      <td>NaN</td>\n",
              "      <td>NaN</td>\n",
              "      <td>A10 - VIADUC DE L'INDRE - MODIFICATION\\n135 ru...</td>\n",
              "      <td>0.657752</td>\n",
              "      <td>47.293079</td>\n",
              "      <td>NaN</td>\n",
              "    </tr>\n",
              "    <tr>\n",
              "      <th>2</th>\n",
              "      <td>NaN</td>\n",
              "      <td>570X.VL1902</td>\n",
              "      <td>(VL1902) 570X - A10 TOURS - COMPTE DE PASSAGE</td>\n",
              "      <td>NaN</td>\n",
              "      <td>NaN</td>\n",
              "      <td>NaN</td>\n",
              "      <td>A10 TOURS - COMPTE DE PASSAGE\\nCHEMIN LE PETIT...</td>\n",
              "      <td>0.672344</td>\n",
              "      <td>47.261719</td>\n",
              "      <td>NaN</td>\n",
              "    </tr>\n",
              "    <tr>\n",
              "      <th>3</th>\n",
              "      <td>NaN</td>\n",
              "      <td>570X.VL1903</td>\n",
              "      <td>(VL1903) 570X - A11 - CONNERRE - ECHANGEUR</td>\n",
              "      <td>NaN</td>\n",
              "      <td>NaN</td>\n",
              "      <td>NaN</td>\n",
              "      <td>A11 - CONNERRE - ECHANGEUR\\nLIEU DIT LES MORTI...</td>\n",
              "      <td>0.510527</td>\n",
              "      <td>48.090065</td>\n",
              "      <td>NaN</td>\n",
              "    </tr>\n",
              "    <tr>\n",
              "      <th>4</th>\n",
              "      <td>NaN</td>\n",
              "      <td>570X.TE2101</td>\n",
              "      <td>(TE2101) 570X - A11 NANTES PORTE GESVRES - BIS...</td>\n",
              "      <td>NaN</td>\n",
              "      <td>NaN</td>\n",
              "      <td>NaN</td>\n",
              "      <td>A11 NANTES PORTE GESVRES - BIS BYTP RF\\nrue Ad...</td>\n",
              "      <td>-1.563787</td>\n",
              "      <td>47.266703</td>\n",
              "      <td>NaN</td>\n",
              "    </tr>\n",
              "    <tr>\n",
              "      <th>...</th>\n",
              "      <td>...</td>\n",
              "      <td>...</td>\n",
              "      <td>...</td>\n",
              "      <td>...</td>\n",
              "      <td>...</td>\n",
              "      <td>...</td>\n",
              "      <td>...</td>\n",
              "      <td>...</td>\n",
              "      <td>...</td>\n",
              "      <td>...</td>\n",
              "    </tr>\n",
              "    <tr>\n",
              "      <th>1174</th>\n",
              "      <td>NaN</td>\n",
              "      <td>570X.ES1903</td>\n",
              "      <td>(ES1903) 570X - WITTELSHEIM - MDPA</td>\n",
              "      <td>NaN</td>\n",
              "      <td>NaN</td>\n",
              "      <td>NaN</td>\n",
              "      <td>WITTELSHEIM - MDPA\\nAVENUE JOSEPH ELSE\\n\\n6831...</td>\n",
              "      <td>7.231214</td>\n",
              "      <td>47.778487</td>\n",
              "      <td>NaN</td>\n",
              "    </tr>\n",
              "    <tr>\n",
              "      <th>1175</th>\n",
              "      <td>NaN</td>\n",
              "      <td>I77X.B01110</td>\n",
              "      <td>(B01110) I77X - WORNINGTON GREEN, LDN KENSINGT...</td>\n",
              "      <td>NaN</td>\n",
              "      <td>NaN</td>\n",
              "      <td>NaN</td>\n",
              "      <td>WORNINGTON GREEN, LDN KENSINGTON&amp;CHELSEA\\nWorn...</td>\n",
              "      <td>-0.211870</td>\n",
              "      <td>51.523696</td>\n",
              "      <td>NaN</td>\n",
              "    </tr>\n",
              "    <tr>\n",
              "      <th>1176</th>\n",
              "      <td>NaN</td>\n",
              "      <td>G06X.196100</td>\n",
              "      <td>(196100) G06X - XXL MARSEILLE</td>\n",
              "      <td>NaN</td>\n",
              "      <td>NaN</td>\n",
              "      <td>NaN</td>\n",
              "      <td>XXL MARSEILLE\\n77 RUE DE LYON\\n\\n13015 MARSEIL...</td>\n",
              "      <td>5.365904</td>\n",
              "      <td>43.326446</td>\n",
              "      <td>NaN</td>\n",
              "    </tr>\n",
              "    <tr>\n",
              "      <th>1177</th>\n",
              "      <td>NaN</td>\n",
              "      <td>570X.SE2006</td>\n",
              "      <td>(SE2006) 570X - YSSINGEAUX - TOARCH LOT 1</td>\n",
              "      <td>NaN</td>\n",
              "      <td>NaN</td>\n",
              "      <td>NaN</td>\n",
              "      <td>YSSINGEAUX - TOARCH LOT 1\\nRN88\\n\\n43200 Yssin...</td>\n",
              "      <td>4.123734</td>\n",
              "      <td>45.142667</td>\n",
              "      <td>NaN</td>\n",
              "    </tr>\n",
              "    <tr>\n",
              "      <th>1178</th>\n",
              "      <td>NaN</td>\n",
              "      <td>Q80X.800300</td>\n",
              "      <td>(800300) Q80X - ZEPHYR_PROJET EVREUX BA 105</td>\n",
              "      <td>NaN</td>\n",
              "      <td>NaN</td>\n",
              "      <td>NaN</td>\n",
              "      <td>ZEPHYR_PROJET EVREUX BA 105\\n5 chemin du Coudr...</td>\n",
              "      <td>1.194756</td>\n",
              "      <td>49.016557</td>\n",
              "      <td>NaN</td>\n",
              "    </tr>\n",
              "  </tbody>\n",
              "</table>\n",
              "<p>1179 rows × 10 columns</p>\n",
              "</div>\n",
              "    <div class=\"colab-df-buttons\">\n",
              "\n",
              "  <div class=\"colab-df-container\">\n",
              "    <button class=\"colab-df-convert\" onclick=\"convertToInteractive('df-d2a143fe-b2f6-480b-96db-9984332c3c45')\"\n",
              "            title=\"Convert this dataframe to an interactive table.\"\n",
              "            style=\"display:none;\">\n",
              "\n",
              "  <svg xmlns=\"http://www.w3.org/2000/svg\" height=\"24px\" viewBox=\"0 -960 960 960\">\n",
              "    <path d=\"M120-120v-720h720v720H120Zm60-500h600v-160H180v160Zm220 220h160v-160H400v160Zm0 220h160v-160H400v160ZM180-400h160v-160H180v160Zm440 0h160v-160H620v160ZM180-180h160v-160H180v160Zm440 0h160v-160H620v160Z\"/>\n",
              "  </svg>\n",
              "    </button>\n",
              "\n",
              "  <style>\n",
              "    .colab-df-container {\n",
              "      display:flex;\n",
              "      gap: 12px;\n",
              "    }\n",
              "\n",
              "    .colab-df-convert {\n",
              "      background-color: #E8F0FE;\n",
              "      border: none;\n",
              "      border-radius: 50%;\n",
              "      cursor: pointer;\n",
              "      display: none;\n",
              "      fill: #1967D2;\n",
              "      height: 32px;\n",
              "      padding: 0 0 0 0;\n",
              "      width: 32px;\n",
              "    }\n",
              "\n",
              "    .colab-df-convert:hover {\n",
              "      background-color: #E2EBFA;\n",
              "      box-shadow: 0px 1px 2px rgba(60, 64, 67, 0.3), 0px 1px 3px 1px rgba(60, 64, 67, 0.15);\n",
              "      fill: #174EA6;\n",
              "    }\n",
              "\n",
              "    .colab-df-buttons div {\n",
              "      margin-bottom: 4px;\n",
              "    }\n",
              "\n",
              "    [theme=dark] .colab-df-convert {\n",
              "      background-color: #3B4455;\n",
              "      fill: #D2E3FC;\n",
              "    }\n",
              "\n",
              "    [theme=dark] .colab-df-convert:hover {\n",
              "      background-color: #434B5C;\n",
              "      box-shadow: 0px 1px 3px 1px rgba(0, 0, 0, 0.15);\n",
              "      filter: drop-shadow(0px 1px 2px rgba(0, 0, 0, 0.3));\n",
              "      fill: #FFFFFF;\n",
              "    }\n",
              "  </style>\n",
              "\n",
              "    <script>\n",
              "      const buttonEl =\n",
              "        document.querySelector('#df-d2a143fe-b2f6-480b-96db-9984332c3c45 button.colab-df-convert');\n",
              "      buttonEl.style.display =\n",
              "        google.colab.kernel.accessAllowed ? 'block' : 'none';\n",
              "\n",
              "      async function convertToInteractive(key) {\n",
              "        const element = document.querySelector('#df-d2a143fe-b2f6-480b-96db-9984332c3c45');\n",
              "        const dataTable =\n",
              "          await google.colab.kernel.invokeFunction('convertToInteractive',\n",
              "                                                    [key], {});\n",
              "        if (!dataTable) return;\n",
              "\n",
              "        const docLinkHtml = 'Like what you see? Visit the ' +\n",
              "          '<a target=\"_blank\" href=https://colab.research.google.com/notebooks/data_table.ipynb>data table notebook</a>'\n",
              "          + ' to learn more about interactive tables.';\n",
              "        element.innerHTML = '';\n",
              "        dataTable['output_type'] = 'display_data';\n",
              "        await google.colab.output.renderOutput(dataTable, element);\n",
              "        const docLink = document.createElement('div');\n",
              "        docLink.innerHTML = docLinkHtml;\n",
              "        element.appendChild(docLink);\n",
              "      }\n",
              "    </script>\n",
              "  </div>\n",
              "\n",
              "\n",
              "<div id=\"df-7578341f-e1e0-4a51-8abb-ee0d32b14806\">\n",
              "  <button class=\"colab-df-quickchart\" onclick=\"quickchart('df-7578341f-e1e0-4a51-8abb-ee0d32b14806')\"\n",
              "            title=\"Suggest charts\"\n",
              "            style=\"display:none;\">\n",
              "\n",
              "<svg xmlns=\"http://www.w3.org/2000/svg\" height=\"24px\"viewBox=\"0 0 24 24\"\n",
              "     width=\"24px\">\n",
              "    <g>\n",
              "        <path d=\"M19 3H5c-1.1 0-2 .9-2 2v14c0 1.1.9 2 2 2h14c1.1 0 2-.9 2-2V5c0-1.1-.9-2-2-2zM9 17H7v-7h2v7zm4 0h-2V7h2v10zm4 0h-2v-4h2v4z\"/>\n",
              "    </g>\n",
              "</svg>\n",
              "  </button>\n",
              "\n",
              "<style>\n",
              "  .colab-df-quickchart {\n",
              "      --bg-color: #E8F0FE;\n",
              "      --fill-color: #1967D2;\n",
              "      --hover-bg-color: #E2EBFA;\n",
              "      --hover-fill-color: #174EA6;\n",
              "      --disabled-fill-color: #AAA;\n",
              "      --disabled-bg-color: #DDD;\n",
              "  }\n",
              "\n",
              "  [theme=dark] .colab-df-quickchart {\n",
              "      --bg-color: #3B4455;\n",
              "      --fill-color: #D2E3FC;\n",
              "      --hover-bg-color: #434B5C;\n",
              "      --hover-fill-color: #FFFFFF;\n",
              "      --disabled-bg-color: #3B4455;\n",
              "      --disabled-fill-color: #666;\n",
              "  }\n",
              "\n",
              "  .colab-df-quickchart {\n",
              "    background-color: var(--bg-color);\n",
              "    border: none;\n",
              "    border-radius: 50%;\n",
              "    cursor: pointer;\n",
              "    display: none;\n",
              "    fill: var(--fill-color);\n",
              "    height: 32px;\n",
              "    padding: 0;\n",
              "    width: 32px;\n",
              "  }\n",
              "\n",
              "  .colab-df-quickchart:hover {\n",
              "    background-color: var(--hover-bg-color);\n",
              "    box-shadow: 0 1px 2px rgba(60, 64, 67, 0.3), 0 1px 3px 1px rgba(60, 64, 67, 0.15);\n",
              "    fill: var(--button-hover-fill-color);\n",
              "  }\n",
              "\n",
              "  .colab-df-quickchart-complete:disabled,\n",
              "  .colab-df-quickchart-complete:disabled:hover {\n",
              "    background-color: var(--disabled-bg-color);\n",
              "    fill: var(--disabled-fill-color);\n",
              "    box-shadow: none;\n",
              "  }\n",
              "\n",
              "  .colab-df-spinner {\n",
              "    border: 2px solid var(--fill-color);\n",
              "    border-color: transparent;\n",
              "    border-bottom-color: var(--fill-color);\n",
              "    animation:\n",
              "      spin 1s steps(1) infinite;\n",
              "  }\n",
              "\n",
              "  @keyframes spin {\n",
              "    0% {\n",
              "      border-color: transparent;\n",
              "      border-bottom-color: var(--fill-color);\n",
              "      border-left-color: var(--fill-color);\n",
              "    }\n",
              "    20% {\n",
              "      border-color: transparent;\n",
              "      border-left-color: var(--fill-color);\n",
              "      border-top-color: var(--fill-color);\n",
              "    }\n",
              "    30% {\n",
              "      border-color: transparent;\n",
              "      border-left-color: var(--fill-color);\n",
              "      border-top-color: var(--fill-color);\n",
              "      border-right-color: var(--fill-color);\n",
              "    }\n",
              "    40% {\n",
              "      border-color: transparent;\n",
              "      border-right-color: var(--fill-color);\n",
              "      border-top-color: var(--fill-color);\n",
              "    }\n",
              "    60% {\n",
              "      border-color: transparent;\n",
              "      border-right-color: var(--fill-color);\n",
              "    }\n",
              "    80% {\n",
              "      border-color: transparent;\n",
              "      border-right-color: var(--fill-color);\n",
              "      border-bottom-color: var(--fill-color);\n",
              "    }\n",
              "    90% {\n",
              "      border-color: transparent;\n",
              "      border-bottom-color: var(--fill-color);\n",
              "    }\n",
              "  }\n",
              "</style>\n",
              "\n",
              "  <script>\n",
              "    async function quickchart(key) {\n",
              "      const quickchartButtonEl =\n",
              "        document.querySelector('#' + key + ' button');\n",
              "      quickchartButtonEl.disabled = true;  // To prevent multiple clicks.\n",
              "      quickchartButtonEl.classList.add('colab-df-spinner');\n",
              "      try {\n",
              "        const charts = await google.colab.kernel.invokeFunction(\n",
              "            'suggestCharts', [key], {});\n",
              "      } catch (error) {\n",
              "        console.error('Error during call to suggestCharts:', error);\n",
              "      }\n",
              "      quickchartButtonEl.classList.remove('colab-df-spinner');\n",
              "      quickchartButtonEl.classList.add('colab-df-quickchart-complete');\n",
              "    }\n",
              "    (() => {\n",
              "      let quickchartButtonEl =\n",
              "        document.querySelector('#df-7578341f-e1e0-4a51-8abb-ee0d32b14806 button');\n",
              "      quickchartButtonEl.style.display =\n",
              "        google.colab.kernel.accessAllowed ? 'block' : 'none';\n",
              "    })();\n",
              "  </script>\n",
              "</div>\n",
              "    </div>\n",
              "  </div>\n"
            ],
            "application/vnd.google.colaboratory.intrinsic+json": {
              "type": "dataframe",
              "variable_name": "df",
              "summary": "{\n  \"name\": \"df\",\n  \"rows\": 1179,\n  \"fields\": [\n    {\n      \"column\": \"CUSTOMER_NAME\",\n      \"properties\": {\n        \"dtype\": \"number\",\n        \"std\": null,\n        \"min\": null,\n        \"max\": null,\n        \"num_unique_values\": 0,\n        \"samples\": [],\n        \"semantic_type\": \"\",\n        \"description\": \"\"\n      }\n    },\n    {\n      \"column\": \"SITE_ID\",\n      \"properties\": {\n        \"dtype\": \"string\",\n        \"num_unique_values\": 1156,\n        \"samples\": [],\n        \"semantic_type\": \"\",\n        \"description\": \"\"\n      }\n    },\n    {\n      \"column\": \"SITE_NAME\",\n      \"properties\": {\n        \"dtype\": \"string\",\n        \"num_unique_values\": 1179,\n        \"samples\": [],\n        \"semantic_type\": \"\",\n        \"description\": \"\"\n      }\n    },\n    {\n      \"column\": \"SITE_TYPE\",\n      \"properties\": {\n        \"dtype\": \"number\",\n        \"std\": null,\n        \"min\": null,\n        \"max\": null,\n        \"num_unique_values\": 0,\n        \"samples\": [],\n        \"semantic_type\": \"\",\n        \"description\": \"\"\n      }\n    },\n    {\n      \"column\": \"SHAPE_TYPE\",\n      \"properties\": {\n        \"dtype\": \"number\",\n        \"std\": null,\n        \"min\": null,\n        \"max\": null,\n        \"num_unique_values\": 0,\n        \"samples\": [],\n        \"semantic_type\": \"\",\n        \"description\": \"\"\n      }\n    },\n    {\n      \"column\": \"SITE_OWNER\",\n      \"properties\": {\n        \"dtype\": \"number\",\n        \"std\": null,\n        \"min\": null,\n        \"max\": null,\n        \"num_unique_values\": 0,\n        \"samples\": [],\n        \"semantic_type\": \"\",\n        \"description\": \"\"\n      }\n    },\n    {\n      \"column\": \"ADDRESS\",\n      \"properties\": {\n        \"dtype\": \"string\",\n        \"num_unique_values\": 1179,\n        \"samples\": [],\n        \"semantic_type\": \"\",\n        \"description\": \"\"\n      }\n    },\n    {\n      \"column\": \"SHAPE_LON\",\n      \"properties\": {\n        \"dtype\": \"number\",\n        \"std\": 2.3173339958855594,\n        \"min\": -7.589843399999999,\n        \"max\": 8.7942643,\n        \"num_unique_values\": 1084,\n        \"samples\": [],\n        \"semantic_type\": \"\",\n        \"description\": \"\"\n      }\n    },\n    {\n      \"column\": \"SHAPE_LAT\",\n      \"properties\": {\n        \"dtype\": \"number\",\n        \"std\": 1.8795486898835199,\n        \"min\": 33.5731104,\n        \"max\": 51.5365772,\n        \"num_unique_values\": 1083,\n        \"samples\": [],\n        \"semantic_type\": \"\",\n        \"description\": \"\"\n      }\n    },\n    {\n      \"column\": \"RADIUS\",\n      \"properties\": {\n        \"dtype\": \"number\",\n        \"std\": null,\n        \"min\": null,\n        \"max\": null,\n        \"num_unique_values\": 0,\n        \"samples\": [],\n        \"semantic_type\": \"\",\n        \"description\": \"\"\n      }\n    }\n  ]\n}"
            }
          },
          "metadata": {},
          "execution_count": 29
        }
      ]
    },
    {
      "cell_type": "markdown",
      "source": [
        "## Passerelle (bridge between python and snowflake)"
      ],
      "metadata": {
        "id": "zajEDmszH9ND"
      }
    },
    {
      "cell_type": "code",
      "source": [
        "conn = snowflake.connector.connect(\n",
        "    user='hichax23',\n",
        "    password='Hellohello+',\n",
        "    account='jiqfczt-ql79208',  # Adjusted account detail\n",
        "    database='ODOO_OP2A',\n",
        "    schema='GEOLOC',\n",
        "    warehouse = 'COMPUTE_WH',\n",
        "    role = 'ACCOUNTADMIN'\n",
        ")"
      ],
      "metadata": {
        "id": "fJuNl25F-wSq"
      },
      "execution_count": 30,
      "outputs": []
    },
    {
      "cell_type": "markdown",
      "source": [
        "## Remplir la bse de données crée sur snowflake par les données de l dataframe de python"
      ],
      "metadata": {
        "id": "op3Ace2FIHP3"
      }
    },
    {
      "cell_type": "code",
      "source": [
        "write_pandas(conn,\n",
        "             df,\n",
        "             table_name= 'CHANTIERS' )"
      ],
      "metadata": {
        "colab": {
          "base_uri": "https://localhost:8080/"
        },
        "id": "Z16yXMOqEoD2",
        "outputId": "b1bfbb53-b4ba-4ad4-aa8d-97496e2ba58b"
      },
      "execution_count": 31,
      "outputs": [
        {
          "output_type": "execute_result",
          "data": {
            "text/plain": [
              "(True,\n",
              " 1,\n",
              " 1179,\n",
              " [('kpwixctluf/file0.txt',\n",
              "   'LOADED',\n",
              "   1179,\n",
              "   1179,\n",
              "   1,\n",
              "   0,\n",
              "   None,\n",
              "   None,\n",
              "   None,\n",
              "   None)])"
            ]
          },
          "metadata": {},
          "execution_count": 31
        }
      ]
    },
    {
      "cell_type": "code",
      "source": [],
      "metadata": {
        "id": "VFXVFIW4HVKf"
      },
      "execution_count": null,
      "outputs": []
    }
  ]
}